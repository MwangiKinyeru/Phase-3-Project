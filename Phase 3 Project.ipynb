{
 "cells": [
  {
   "cell_type": "markdown",
   "id": "11860871-bbd0-48bf-8f59-cf97bb9cdcb6",
   "metadata": {},
   "source": [
    "## PHASE 3 PROJECT\n",
    "Please fill out:\n",
    "\n",
    "Student name: MARTIN MWANGI\n",
    "\n",
    "Student pace: FULL TIME\n",
    "\n",
    "Scheduled project review date/time:\n",
    "\n",
    "Instructor name: ANTONNY MUIKO\n",
    "\n",
    "Blog post URL:"
   ]
  },
  {
   "cell_type": "markdown",
   "id": "e6a29b3c-1435-4f4d-8f55-8e62a1b62b19",
   "metadata": {},
   "source": [
    "## EXPLORATORY DATA ANALYSIS"
   ]
  },
  {
   "cell_type": "markdown",
   "id": "5f4570ec-e903-4e2e-bf29-4b14142f12eb",
   "metadata": {},
   "source": [
    "## Business Problem\n",
    "Our company is facing high customer churn, resulting in substantial revenue loss and brand damage. Current retention methods are ineffective. To address this, we need to develop a predictive model that accurately identifies at-risk customers. This model will guide targeted retention strategies, aiming to reduce churn and increase revenue."
   ]
  },
  {
   "cell_type": "markdown",
   "id": "f4b707c5-c126-4757-8e66-2b3b720d934d",
   "metadata": {},
   "source": [
    "## Business Understanding\n",
    "The primary objective of this project is to reduce customer churn by accurately identifying at-risk customers using predictive modeling. By understanding which customers are likely to leave, the company can proactively implement targeted retention strategies, thereby reducing churn, minimizing revenue loss, and protecting the brand’s reputation.\n",
    "#### Shareholders key questions\n",
    "1. What are the main factors contributing to customer churn?\n",
    "2. Which customer segments are most at risk of churning?\n",
    "3. How can we improve customer satisfaction to reduce churn?\n",
    "4. What are the financial implications of reducing churn?"
   ]
  },
  {
   "cell_type": "markdown",
   "id": "0dfe7905-0273-4ff2-8602-019a06748828",
   "metadata": {},
   "source": [
    "## Data Understanding\n",
    "We are going to use dataset from JB Link Telco Customer Churn which can be downloaded in [kaggle](https://www.kaggle.com/datasets/johnflag/jb-link-telco-customer-churn). We will use this data from JB Link which is a small size telecom company located in the state of California that provides Phone and Internet services to customers on more than a 1,000 cities and 1,600 zip codes. The main objective of this project is to address reasons that make customers to churn phone and internet services in the network industry. This project can be used by any network provider industry.\n",
    "## dataset understanding\n",
    "our dataset is known as **telco_churn_data.csv** is a csv file and contains 46 columns. we will pick just the relevant columns and drop the rest. we will have 2 models and some of the columns we will use in our model include:\n",
    "1. Logistic regression - Target Variable: Churn Value, Other Variables: Tenure in Months, Monthly Charge, Internet Service, Contract.\n",
    "2. decision tree model - Target Variable: Churn Value, Other Variables: Tenure in Months, Monthly Charge, Internet Service, Contract, Payment Method."
   ]
  },
  {
   "cell_type": "markdown",
   "id": "c3fc0f6e-ee6f-4975-9e4f-c48bb421e1a4",
   "metadata": {},
   "source": [
    "## Data preparation\n",
    "The dataset will go through sanity check first thats is data cleaning, it includes:\n",
    "\n",
    "1. Converting some data type columns to the preferred data type\n",
    "2. Check the null or missing values and fill them, and drop where need be\n",
    "3. Check and drop duplicates\n",
    "4. Check and drop outliers"
   ]
  },
  {
   "cell_type": "markdown",
   "id": "d42fef66-8784-4d19-992a-bee58da9f8f9",
   "metadata": {},
   "source": [
    "#### Performing data preparation"
   ]
  },
  {
   "cell_type": "code",
   "execution_count": 103,
   "id": "0b95b729-ffaf-4fc9-800a-2be0889f2d63",
   "metadata": {},
   "outputs": [],
   "source": [
    "# importing necessary librarires\n",
    "import pandas as pd\n",
    "import numpy as np\n",
    "import statsmodels.api as sm\n",
    "import seaborn as sns\n",
    "import matplotlib.pyplot as plt\n",
    "%matplotlib inline"
   ]
  },
  {
   "cell_type": "code",
   "execution_count": 104,
   "id": "422404ac-5f45-4069-afe0-c9b1df79d94c",
   "metadata": {},
   "outputs": [
    {
     "data": {
      "text/html": [
       "<div>\n",
       "<style scoped>\n",
       "    .dataframe tbody tr th:only-of-type {\n",
       "        vertical-align: middle;\n",
       "    }\n",
       "\n",
       "    .dataframe tbody tr th {\n",
       "        vertical-align: top;\n",
       "    }\n",
       "\n",
       "    .dataframe thead th {\n",
       "        text-align: right;\n",
       "    }\n",
       "</style>\n",
       "<table border=\"1\" class=\"dataframe\">\n",
       "  <thead>\n",
       "    <tr style=\"text-align: right;\">\n",
       "      <th></th>\n",
       "      <th>Customer ID</th>\n",
       "      <th>Referred a Friend</th>\n",
       "      <th>Number of Referrals</th>\n",
       "      <th>Tenure in Months</th>\n",
       "      <th>Offer</th>\n",
       "      <th>Phone Service</th>\n",
       "      <th>Avg Monthly Long Distance Charges</th>\n",
       "      <th>Multiple Lines</th>\n",
       "      <th>Internet Service</th>\n",
       "      <th>Internet Type</th>\n",
       "      <th>...</th>\n",
       "      <th>Latitude</th>\n",
       "      <th>Longitude</th>\n",
       "      <th>Population</th>\n",
       "      <th>Churn Value</th>\n",
       "      <th>CLTV</th>\n",
       "      <th>Churn Category</th>\n",
       "      <th>Churn Reason</th>\n",
       "      <th>Total Customer Svc Requests</th>\n",
       "      <th>Product/Service Issues Reported</th>\n",
       "      <th>Customer Satisfaction</th>\n",
       "    </tr>\n",
       "  </thead>\n",
       "  <tbody>\n",
       "    <tr>\n",
       "      <th>0</th>\n",
       "      <td>8779-QRDMV</td>\n",
       "      <td>No</td>\n",
       "      <td>0</td>\n",
       "      <td>1</td>\n",
       "      <td>NaN</td>\n",
       "      <td>No</td>\n",
       "      <td>0.00</td>\n",
       "      <td>No</td>\n",
       "      <td>Yes</td>\n",
       "      <td>Fiber Optic</td>\n",
       "      <td>...</td>\n",
       "      <td>34.023810</td>\n",
       "      <td>-118.156582</td>\n",
       "      <td>68701</td>\n",
       "      <td>1</td>\n",
       "      <td>5433</td>\n",
       "      <td>Competitor</td>\n",
       "      <td>Competitor offered more data</td>\n",
       "      <td>5</td>\n",
       "      <td>0</td>\n",
       "      <td>NaN</td>\n",
       "    </tr>\n",
       "    <tr>\n",
       "      <th>1</th>\n",
       "      <td>7495-OOKFY</td>\n",
       "      <td>Yes</td>\n",
       "      <td>1</td>\n",
       "      <td>8</td>\n",
       "      <td>Offer E</td>\n",
       "      <td>Yes</td>\n",
       "      <td>48.85</td>\n",
       "      <td>Yes</td>\n",
       "      <td>Yes</td>\n",
       "      <td>Cable</td>\n",
       "      <td>...</td>\n",
       "      <td>34.044271</td>\n",
       "      <td>-118.185237</td>\n",
       "      <td>55668</td>\n",
       "      <td>1</td>\n",
       "      <td>5302</td>\n",
       "      <td>Competitor</td>\n",
       "      <td>Competitor made better offer</td>\n",
       "      <td>5</td>\n",
       "      <td>0</td>\n",
       "      <td>NaN</td>\n",
       "    </tr>\n",
       "    <tr>\n",
       "      <th>2</th>\n",
       "      <td>1658-BYGOY</td>\n",
       "      <td>No</td>\n",
       "      <td>0</td>\n",
       "      <td>18</td>\n",
       "      <td>Offer D</td>\n",
       "      <td>Yes</td>\n",
       "      <td>11.33</td>\n",
       "      <td>Yes</td>\n",
       "      <td>Yes</td>\n",
       "      <td>Fiber Optic</td>\n",
       "      <td>...</td>\n",
       "      <td>34.108833</td>\n",
       "      <td>-118.229715</td>\n",
       "      <td>47534</td>\n",
       "      <td>1</td>\n",
       "      <td>3179</td>\n",
       "      <td>Competitor</td>\n",
       "      <td>Competitor made better offer</td>\n",
       "      <td>1</td>\n",
       "      <td>0</td>\n",
       "      <td>NaN</td>\n",
       "    </tr>\n",
       "  </tbody>\n",
       "</table>\n",
       "<p>3 rows × 46 columns</p>\n",
       "</div>"
      ],
      "text/plain": [
       "  Customer ID Referred a Friend  Number of Referrals  Tenure in Months  \\\n",
       "0  8779-QRDMV                No                    0                 1   \n",
       "1  7495-OOKFY               Yes                    1                 8   \n",
       "2  1658-BYGOY                No                    0                18   \n",
       "\n",
       "     Offer Phone Service  Avg Monthly Long Distance Charges Multiple Lines  \\\n",
       "0      NaN            No                               0.00             No   \n",
       "1  Offer E           Yes                              48.85            Yes   \n",
       "2  Offer D           Yes                              11.33            Yes   \n",
       "\n",
       "  Internet Service Internet Type  ...   Latitude   Longitude Population  \\\n",
       "0              Yes   Fiber Optic  ...  34.023810 -118.156582      68701   \n",
       "1              Yes         Cable  ...  34.044271 -118.185237      55668   \n",
       "2              Yes   Fiber Optic  ...  34.108833 -118.229715      47534   \n",
       "\n",
       "  Churn Value  CLTV Churn Category                  Churn Reason  \\\n",
       "0           1  5433     Competitor  Competitor offered more data   \n",
       "1           1  5302     Competitor  Competitor made better offer   \n",
       "2           1  3179     Competitor  Competitor made better offer   \n",
       "\n",
       "  Total Customer Svc Requests Product/Service Issues Reported  \\\n",
       "0                           5                               0   \n",
       "1                           5                               0   \n",
       "2                           1                               0   \n",
       "\n",
       "  Customer Satisfaction  \n",
       "0                   NaN  \n",
       "1                   NaN  \n",
       "2                   NaN  \n",
       "\n",
       "[3 rows x 46 columns]"
      ]
     },
     "execution_count": 104,
     "metadata": {},
     "output_type": "execute_result"
    }
   ],
   "source": [
    "# reading our csv file or dataset\n",
    "df = pd.read_csv(\"telco_churn_data.csv\")\n",
    "df.head(3)"
   ]
  },
  {
   "cell_type": "code",
   "execution_count": 105,
   "id": "b39ebff7-5e6c-470d-bfe6-119bef4c9ba7",
   "metadata": {},
   "outputs": [
    {
     "data": {
      "text/plain": [
       "Index(['Customer ID', 'Referred a Friend', 'Number of Referrals',\n",
       "       'Tenure in Months', 'Offer', 'Phone Service',\n",
       "       'Avg Monthly Long Distance Charges', 'Multiple Lines',\n",
       "       'Internet Service', 'Internet Type', 'Avg Monthly GB Download',\n",
       "       'Online Security', 'Online Backup', 'Device Protection Plan',\n",
       "       'Premium Tech Support', 'Streaming TV', 'Streaming Movies',\n",
       "       'Streaming Music', 'Unlimited Data', 'Contract', 'Paperless Billing',\n",
       "       'Payment Method', 'Monthly Charge', 'Total Regular Charges',\n",
       "       'Total Refunds', 'Total Extra Data Charges',\n",
       "       'Total Long Distance Charges', 'Gender', 'Age', 'Under 30',\n",
       "       'Senior Citizen', 'Married', 'Dependents', 'Number of Dependents',\n",
       "       'City', 'Zip Code', 'Latitude', 'Longitude', 'Population',\n",
       "       'Churn Value', 'CLTV', 'Churn Category', 'Churn Reason',\n",
       "       'Total Customer Svc Requests', 'Product/Service Issues Reported',\n",
       "       'Customer Satisfaction'],\n",
       "      dtype='object')"
      ]
     },
     "execution_count": 105,
     "metadata": {},
     "output_type": "execute_result"
    }
   ],
   "source": [
    "# checking columns to indentify the columns to drop and keep\n",
    "df.columns"
   ]
  },
  {
   "cell_type": "markdown",
   "id": "04858e75-60e1-4b9e-ace5-3004f23ba4da",
   "metadata": {},
   "source": [
    "My dataset has 46 columns and I need less than 15 column so i have decided instead of droping the irrelevant columns I create a new dataset that contains the relevant columns to be used in my project."
   ]
  },
  {
   "cell_type": "code",
   "execution_count": 106,
   "id": "4312a568-11b1-42a1-b6d0-3d2bc9a8c5c3",
   "metadata": {},
   "outputs": [],
   "source": [
    "# creating  list of relevnt columns\n",
    "relevant_columns = ['Tenure in Months', 'Internet Service', 'Contract', 'Payment Method',\n",
    "                    'Monthly Charge', 'Total Long Distance Charges', 'Churn Value', 'CLTV'\n",
    "                   ]"
   ]
  },
  {
   "cell_type": "code",
   "execution_count": 107,
   "id": "daea1a10-c0b2-48f0-83f3-570f6f04b64d",
   "metadata": {},
   "outputs": [
    {
     "data": {
      "text/html": [
       "<div>\n",
       "<style scoped>\n",
       "    .dataframe tbody tr th:only-of-type {\n",
       "        vertical-align: middle;\n",
       "    }\n",
       "\n",
       "    .dataframe tbody tr th {\n",
       "        vertical-align: top;\n",
       "    }\n",
       "\n",
       "    .dataframe thead th {\n",
       "        text-align: right;\n",
       "    }\n",
       "</style>\n",
       "<table border=\"1\" class=\"dataframe\">\n",
       "  <thead>\n",
       "    <tr style=\"text-align: right;\">\n",
       "      <th></th>\n",
       "      <th>Tenure in Months</th>\n",
       "      <th>Internet Service</th>\n",
       "      <th>Contract</th>\n",
       "      <th>Payment Method</th>\n",
       "      <th>Monthly Charge</th>\n",
       "      <th>Total Long Distance Charges</th>\n",
       "      <th>Churn Value</th>\n",
       "      <th>CLTV</th>\n",
       "    </tr>\n",
       "  </thead>\n",
       "  <tbody>\n",
       "    <tr>\n",
       "      <th>0</th>\n",
       "      <td>1</td>\n",
       "      <td>Yes</td>\n",
       "      <td>Month-to-Month</td>\n",
       "      <td>Bank Withdrawal</td>\n",
       "      <td>41.236</td>\n",
       "      <td>0.00</td>\n",
       "      <td>1</td>\n",
       "      <td>5433</td>\n",
       "    </tr>\n",
       "    <tr>\n",
       "      <th>1</th>\n",
       "      <td>8</td>\n",
       "      <td>Yes</td>\n",
       "      <td>Month-to-Month</td>\n",
       "      <td>Credit Card</td>\n",
       "      <td>83.876</td>\n",
       "      <td>390.80</td>\n",
       "      <td>1</td>\n",
       "      <td>5302</td>\n",
       "    </tr>\n",
       "    <tr>\n",
       "      <th>2</th>\n",
       "      <td>18</td>\n",
       "      <td>Yes</td>\n",
       "      <td>Month-to-Month</td>\n",
       "      <td>Bank Withdrawal</td>\n",
       "      <td>99.268</td>\n",
       "      <td>203.94</td>\n",
       "      <td>1</td>\n",
       "      <td>3179</td>\n",
       "    </tr>\n",
       "  </tbody>\n",
       "</table>\n",
       "</div>"
      ],
      "text/plain": [
       "   Tenure in Months Internet Service        Contract   Payment Method  \\\n",
       "0                 1              Yes  Month-to-Month  Bank Withdrawal   \n",
       "1                 8              Yes  Month-to-Month      Credit Card   \n",
       "2                18              Yes  Month-to-Month  Bank Withdrawal   \n",
       "\n",
       "   Monthly Charge  Total Long Distance Charges  Churn Value  CLTV  \n",
       "0          41.236                         0.00            1  5433  \n",
       "1          83.876                       390.80            1  5302  \n",
       "2          99.268                       203.94            1  3179  "
      ]
     },
     "execution_count": 107,
     "metadata": {},
     "output_type": "execute_result"
    }
   ],
   "source": [
    "# creating a new datset we call it df1\n",
    "df1 = df[relevant_columns]\n",
    "df1.head(3)"
   ]
  },
  {
   "cell_type": "code",
   "execution_count": 108,
   "id": "90821d46-89ac-4df8-86d9-a8ab120cf49c",
   "metadata": {},
   "outputs": [
    {
     "data": {
      "text/plain": [
       "Index(['Tenure in Months', 'Internet Service', 'Contract', 'Payment Method',\n",
       "       'Monthly Charge', 'Total Long Distance Charges', 'Churn Value', 'CLTV'],\n",
       "      dtype='object')"
      ]
     },
     "execution_count": 108,
     "metadata": {},
     "output_type": "execute_result"
    }
   ],
   "source": [
    "df1.columns"
   ]
  },
  {
   "cell_type": "code",
   "execution_count": 109,
   "id": "637dcb3f-ecb1-4a94-a21f-2207ebf2e2f5",
   "metadata": {},
   "outputs": [],
   "source": [
    "# some columns names dont look appealing lets rename them\n",
    "df1 = df[relevant_columns].copy()\n",
    "df1.rename(columns = {\"Contract\":\"Contract Type\",\n",
    "                             \"Total Long Distance Charges\":\"Long Distance Charges\",\n",
    "                             \"CLTV\":\"Customer Lifetime Value\"}, inplace = True)\n"
   ]
  },
  {
   "cell_type": "code",
   "execution_count": 110,
   "id": "24e59dd7-eaa9-4bc0-8de4-c7179d067062",
   "metadata": {},
   "outputs": [
    {
     "data": {
      "text/html": [
       "<div>\n",
       "<style scoped>\n",
       "    .dataframe tbody tr th:only-of-type {\n",
       "        vertical-align: middle;\n",
       "    }\n",
       "\n",
       "    .dataframe tbody tr th {\n",
       "        vertical-align: top;\n",
       "    }\n",
       "\n",
       "    .dataframe thead th {\n",
       "        text-align: right;\n",
       "    }\n",
       "</style>\n",
       "<table border=\"1\" class=\"dataframe\">\n",
       "  <thead>\n",
       "    <tr style=\"text-align: right;\">\n",
       "      <th></th>\n",
       "      <th>Tenure in Months</th>\n",
       "      <th>Internet Service</th>\n",
       "      <th>Contract Type</th>\n",
       "      <th>Payment Method</th>\n",
       "      <th>Monthly Charge</th>\n",
       "      <th>Long Distance Charges</th>\n",
       "      <th>Churn Value</th>\n",
       "      <th>Customer Lifetime Value</th>\n",
       "    </tr>\n",
       "  </thead>\n",
       "  <tbody>\n",
       "    <tr>\n",
       "      <th>0</th>\n",
       "      <td>1</td>\n",
       "      <td>Yes</td>\n",
       "      <td>Month-to-Month</td>\n",
       "      <td>Bank Withdrawal</td>\n",
       "      <td>41.236</td>\n",
       "      <td>0.00</td>\n",
       "      <td>1</td>\n",
       "      <td>5433</td>\n",
       "    </tr>\n",
       "    <tr>\n",
       "      <th>1</th>\n",
       "      <td>8</td>\n",
       "      <td>Yes</td>\n",
       "      <td>Month-to-Month</td>\n",
       "      <td>Credit Card</td>\n",
       "      <td>83.876</td>\n",
       "      <td>390.80</td>\n",
       "      <td>1</td>\n",
       "      <td>5302</td>\n",
       "    </tr>\n",
       "    <tr>\n",
       "      <th>2</th>\n",
       "      <td>18</td>\n",
       "      <td>Yes</td>\n",
       "      <td>Month-to-Month</td>\n",
       "      <td>Bank Withdrawal</td>\n",
       "      <td>99.268</td>\n",
       "      <td>203.94</td>\n",
       "      <td>1</td>\n",
       "      <td>3179</td>\n",
       "    </tr>\n",
       "    <tr>\n",
       "      <th>3</th>\n",
       "      <td>25</td>\n",
       "      <td>Yes</td>\n",
       "      <td>Month-to-Month</td>\n",
       "      <td>Bank Withdrawal</td>\n",
       "      <td>102.440</td>\n",
       "      <td>494.00</td>\n",
       "      <td>1</td>\n",
       "      <td>5337</td>\n",
       "    </tr>\n",
       "    <tr>\n",
       "      <th>4</th>\n",
       "      <td>37</td>\n",
       "      <td>Yes</td>\n",
       "      <td>Month-to-Month</td>\n",
       "      <td>Bank Withdrawal</td>\n",
       "      <td>79.560</td>\n",
       "      <td>234.21</td>\n",
       "      <td>1</td>\n",
       "      <td>2793</td>\n",
       "    </tr>\n",
       "  </tbody>\n",
       "</table>\n",
       "</div>"
      ],
      "text/plain": [
       "   Tenure in Months Internet Service   Contract Type   Payment Method  \\\n",
       "0                 1              Yes  Month-to-Month  Bank Withdrawal   \n",
       "1                 8              Yes  Month-to-Month      Credit Card   \n",
       "2                18              Yes  Month-to-Month  Bank Withdrawal   \n",
       "3                25              Yes  Month-to-Month  Bank Withdrawal   \n",
       "4                37              Yes  Month-to-Month  Bank Withdrawal   \n",
       "\n",
       "   Monthly Charge  Long Distance Charges  Churn Value  Customer Lifetime Value  \n",
       "0          41.236                   0.00            1                     5433  \n",
       "1          83.876                 390.80            1                     5302  \n",
       "2          99.268                 203.94            1                     3179  \n",
       "3         102.440                 494.00            1                     5337  \n",
       "4          79.560                 234.21            1                     2793  "
      ]
     },
     "execution_count": 110,
     "metadata": {},
     "output_type": "execute_result"
    }
   ],
   "source": [
    "df1.head(5)"
   ]
  },
  {
   "cell_type": "markdown",
   "id": "b052e5b3-fa31-4e4a-91ea-04ea003144d6",
   "metadata": {},
   "source": [
    "### This is the description of the columns choosen under the relevant columns, that were used to create the new dataset and whose data is key in our project.\n",
    "1. Tenure in Months - Indicates the total amount of months that the customer has been with the company by the end of the quarter\n",
    "2. Internet Service - Indicates if the customer subscribes to Internet service with the company\n",
    "3. Contract Type - The contract term of the customer (Month-to-month, One year, Two year).\n",
    "4. Payment Method - The customer's payment method (Electronic check, Mailed check, Bank transfer (automatic), Credit card (automatic)).\n",
    "5. Monthly Charge - The amount charged to the customer monthly\n",
    "6. Total Long Distance Charges - Indicates the customer’s average long distance charges, calculated to the end of the quarte\n",
    "7. Churn Value - Whether the customer has churned (Yes, No), **(Where 0: The customer did not churn (i.e., they stayed with the company).and 1: The customer churned (i.e., they left the company).**\n",
    "8. Customer Lifetime Value - This column indicates the total revenue a company can expect to earn from a customer during their lifetime with the company"
   ]
  },
  {
   "cell_type": "markdown",
   "id": "6945c0fa-e5e7-41a7-b837-8cbf448ddf6d",
   "metadata": {},
   "source": [
    "#### Lets now perform the sanity check ups"
   ]
  },
  {
   "cell_type": "code",
   "execution_count": 111,
   "id": "d4645ef6-c2a2-47d9-a16f-faf9ca852a2d",
   "metadata": {},
   "outputs": [
    {
     "data": {
      "text/plain": [
       "(7043, 8)"
      ]
     },
     "execution_count": 111,
     "metadata": {},
     "output_type": "execute_result"
    }
   ],
   "source": [
    "# Checking the shape of the dataset\n",
    "df1.shape"
   ]
  },
  {
   "cell_type": "code",
   "execution_count": 112,
   "id": "ca2a3570-0524-4b20-85db-8d705b773d1f",
   "metadata": {},
   "outputs": [
    {
     "data": {
      "text/plain": [
       "Tenure in Months             int64\n",
       "Internet Service            object\n",
       "Contract Type               object\n",
       "Payment Method              object\n",
       "Monthly Charge             float64\n",
       "Long Distance Charges      float64\n",
       "Churn Value                  int64\n",
       "Customer Lifetime Value      int64\n",
       "dtype: object"
      ]
     },
     "execution_count": 112,
     "metadata": {},
     "output_type": "execute_result"
    }
   ],
   "source": [
    "# checking the data type\n",
    "df1.dtypes"
   ]
  },
  {
   "cell_type": "code",
   "execution_count": 113,
   "id": "9cf3aed6-4b15-4b30-b095-8b49ee47139c",
   "metadata": {},
   "outputs": [
    {
     "name": "stdout",
     "output_type": "stream",
     "text": [
      "<class 'pandas.core.frame.DataFrame'>\n",
      "RangeIndex: 7043 entries, 0 to 7042\n",
      "Data columns (total 8 columns):\n",
      " #   Column                   Non-Null Count  Dtype  \n",
      "---  ------                   --------------  -----  \n",
      " 0   Tenure in Months         7043 non-null   int64  \n",
      " 1   Internet Service         7043 non-null   object \n",
      " 2   Contract Type            7043 non-null   object \n",
      " 3   Payment Method           7043 non-null   object \n",
      " 4   Monthly Charge           7043 non-null   float64\n",
      " 5   Long Distance Charges    7043 non-null   float64\n",
      " 6   Churn Value              7043 non-null   int64  \n",
      " 7   Customer Lifetime Value  7043 non-null   int64  \n",
      "dtypes: float64(2), int64(3), object(3)\n",
      "memory usage: 440.3+ KB\n"
     ]
    }
   ],
   "source": [
    "# checking the iformation about the data\n",
    "df1.info()"
   ]
  },
  {
   "cell_type": "code",
   "execution_count": 114,
   "id": "259026ab-92ad-42a4-862d-10128fec0ae7",
   "metadata": {},
   "outputs": [
    {
     "data": {
      "text/plain": [
       "Tenure in Months           0\n",
       "Internet Service           0\n",
       "Contract Type              0\n",
       "Payment Method             0\n",
       "Monthly Charge             0\n",
       "Long Distance Charges      0\n",
       "Churn Value                0\n",
       "Customer Lifetime Value    0\n",
       "dtype: int64"
      ]
     },
     "execution_count": 114,
     "metadata": {},
     "output_type": "execute_result"
    }
   ],
   "source": [
    "# checking missing values\n",
    "df1.isna().sum()"
   ]
  },
  {
   "cell_type": "code",
   "execution_count": 115,
   "id": "9ce078f8-7afb-41c9-9a4d-fb5505e3967f",
   "metadata": {},
   "outputs": [
    {
     "data": {
      "text/plain": [
       "0"
      ]
     },
     "execution_count": 115,
     "metadata": {},
     "output_type": "execute_result"
    }
   ],
   "source": [
    "#checking duplicates\n",
    "df1.duplicated().sum()"
   ]
  },
  {
   "cell_type": "markdown",
   "id": "10177568-af70-43b2-aee5-4666e473b767",
   "metadata": {},
   "source": [
    "we will check outliers in our numerical datatype that is Tenure in Months, Monthly Charge, Long Distance Charges and Customer Lifetime Value. we will use box plot and IQR to drop outliers."
   ]
  },
  {
   "cell_type": "code",
   "execution_count": 116,
   "id": "7412f413-1b3a-46a9-9853-79af315e3c84",
   "metadata": {},
   "outputs": [
    {
     "data": {
      "text/plain": [
       "Text(0.5, 1.0, 'Customer Lifetime Value')"
      ]
     },
     "execution_count": 116,
     "metadata": {},
     "output_type": "execute_result"
    },
    {
     "data": {
      "image/png": "[encoded data removed]",
      "text/plain": [
       "<Figure size 1500x500 with 4 Axes>"
      ]
     },
     "metadata": {},
     "output_type": "display_data"
    }
   ],
   "source": [
    "# setting up the box plots\n",
    "fig, axes = plt.subplots(nrows=1, ncols=4, figsize=(15, 5))\n",
    "# Tenure in Months\n",
    "sns.boxplot(x = df1['Tenure in Months'], ax=axes[0])\n",
    "axes[0].set_title('Tenure in Months')\n",
    "# Monthly Charge\n",
    "sns.boxplot(x = df1['Monthly Charge'], ax=axes[1])\n",
    "axes[1].set_title('Monthly Charge')\n",
    "# Long Distance Charges\n",
    "sns.boxplot(x = df1['Long Distance Charges'], ax=axes[2])\n",
    "axes[2].set_title('Long Distance Charges')\n",
    "# Customer Lifetime Value\n",
    "sns.boxplot(x = df1['Customer Lifetime Value'], ax=axes[3])\n",
    "axes[3].set_title('Customer Lifetime Value')\n"
   ]
  },
  {
   "cell_type": "markdown",
   "id": "76cc5f83-7b50-487c-9477-5f5d784e9a15",
   "metadata": {},
   "source": [
    "#### Long distance charges has some outliers let drop them"
   ]
  },
  {
   "cell_type": "code",
   "execution_count": 117,
   "id": "14f2d7d9-5eb2-4553-831b-840f475e5cdc",
   "metadata": {},
   "outputs": [
    {
     "data": {
      "text/plain": [
       "(7043, 8)"
      ]
     },
     "execution_count": 117,
     "metadata": {},
     "output_type": "execute_result"
    }
   ],
   "source": [
    "df1.shape # shope before ddroping outlierrs"
   ]
  },
  {
   "cell_type": "code",
   "execution_count": 118,
   "id": "98839792-505c-44d4-945e-73598485a283",
   "metadata": {},
   "outputs": [],
   "source": [
    "# i will use the interquatile range to calculate and filter out outliers\n",
    "# Calculate the IQR\n",
    "Q1 = df1['Long Distance Charges'].quantile(0.25)\n",
    "Q3 = df1['Long Distance Charges'].quantile(0.75)\n",
    "IQR = Q3 - Q1\n",
    "\n",
    "# Define the bounds for outliers\n",
    "lower_bound = Q1 - 1.5 * IQR\n",
    "upper_bound = Q3 + 1.5 * IQR\n",
    "\n",
    "# Filter out outliers\n",
    "df2 = df1[(df1['Long Distance Charges'] >= lower_bound) & (df1['Long Distance Charges'] <= upper_bound)]"
   ]
  },
  {
   "cell_type": "code",
   "execution_count": 119,
   "id": "8c83927a-2689-4213-b670-ae5266988611",
   "metadata": {},
   "outputs": [
    {
     "data": {
      "text/plain": [
       "(6847, 8)"
      ]
     },
     "execution_count": 119,
     "metadata": {},
     "output_type": "execute_result"
    }
   ],
   "source": [
    "df2.shape # shae after dropping outliers"
   ]
  },
  {
   "cell_type": "code",
   "execution_count": 120,
   "id": "a45d04ea-73b2-4819-a873-ac6fbc51e570",
   "metadata": {},
   "outputs": [
    {
     "data": {
      "text/plain": [
       "Index(['Tenure in Months', 'Internet Service', 'Contract Type',\n",
       "       'Payment Method', 'Monthly Charge', 'Long Distance Charges',\n",
       "       'Churn Value', 'Customer Lifetime Value'],\n",
       "      dtype='object')"
      ]
     },
     "execution_count": 120,
     "metadata": {},
     "output_type": "execute_result"
    }
   ],
   "source": [
    "df2.columns"
   ]
  },
  {
   "cell_type": "code",
   "execution_count": 121,
   "id": "62fec9a0-f91f-40cc-bf8d-50e55d741533",
   "metadata": {},
   "outputs": [
    {
     "data": {
      "text/html": [
       "<div>\n",
       "<style scoped>\n",
       "    .dataframe tbody tr th:only-of-type {\n",
       "        vertical-align: middle;\n",
       "    }\n",
       "\n",
       "    .dataframe tbody tr th {\n",
       "        vertical-align: top;\n",
       "    }\n",
       "\n",
       "    .dataframe thead th {\n",
       "        text-align: right;\n",
       "    }\n",
       "</style>\n",
       "<table border=\"1\" class=\"dataframe\">\n",
       "  <thead>\n",
       "    <tr style=\"text-align: right;\">\n",
       "      <th></th>\n",
       "      <th>Tenure in Months</th>\n",
       "      <th>Monthly Charge</th>\n",
       "      <th>Long Distance Charges</th>\n",
       "      <th>Churn Value</th>\n",
       "      <th>Customer Lifetime Value</th>\n",
       "    </tr>\n",
       "  </thead>\n",
       "  <tbody>\n",
       "    <tr>\n",
       "      <th>Tenure in Months</th>\n",
       "      <td>1.000000</td>\n",
       "      <td>0.222181</td>\n",
       "      <td>0.652783</td>\n",
       "      <td>-0.350357</td>\n",
       "      <td>0.383548</td>\n",
       "    </tr>\n",
       "    <tr>\n",
       "      <th>Monthly Charge</th>\n",
       "      <td>0.222181</td>\n",
       "      <td>1.000000</td>\n",
       "      <td>0.229391</td>\n",
       "      <td>0.239416</td>\n",
       "      <td>0.083466</td>\n",
       "    </tr>\n",
       "    <tr>\n",
       "      <th>Long Distance Charges</th>\n",
       "      <td>0.652783</td>\n",
       "      <td>0.229391</td>\n",
       "      <td>1.000000</td>\n",
       "      <td>-0.221828</td>\n",
       "      <td>0.261015</td>\n",
       "    </tr>\n",
       "    <tr>\n",
       "      <th>Churn Value</th>\n",
       "      <td>-0.350357</td>\n",
       "      <td>0.239416</td>\n",
       "      <td>-0.221828</td>\n",
       "      <td>1.000000</td>\n",
       "      <td>-0.120438</td>\n",
       "    </tr>\n",
       "    <tr>\n",
       "      <th>Customer Lifetime Value</th>\n",
       "      <td>0.383548</td>\n",
       "      <td>0.083466</td>\n",
       "      <td>0.261015</td>\n",
       "      <td>-0.120438</td>\n",
       "      <td>1.000000</td>\n",
       "    </tr>\n",
       "  </tbody>\n",
       "</table>\n",
       "</div>"
      ],
      "text/plain": [
       "                         Tenure in Months  Monthly Charge  \\\n",
       "Tenure in Months                 1.000000        0.222181   \n",
       "Monthly Charge                   0.222181        1.000000   \n",
       "Long Distance Charges            0.652783        0.229391   \n",
       "Churn Value                     -0.350357        0.239416   \n",
       "Customer Lifetime Value          0.383548        0.083466   \n",
       "\n",
       "                         Long Distance Charges  Churn Value  \\\n",
       "Tenure in Months                      0.652783    -0.350357   \n",
       "Monthly Charge                        0.229391     0.239416   \n",
       "Long Distance Charges                 1.000000    -0.221828   \n",
       "Churn Value                          -0.221828     1.000000   \n",
       "Customer Lifetime Value               0.261015    -0.120438   \n",
       "\n",
       "                         Customer Lifetime Value  \n",
       "Tenure in Months                        0.383548  \n",
       "Monthly Charge                          0.083466  \n",
       "Long Distance Charges                   0.261015  \n",
       "Churn Value                            -0.120438  \n",
       "Customer Lifetime Value                 1.000000  "
      ]
     },
     "execution_count": 121,
     "metadata": {},
     "output_type": "execute_result"
    }
   ],
   "source": [
    "# checking multicollineality\n",
    "select_num = df2.select_dtypes(include=['float64', 'int64'])\n",
    "corr = select_num.corr()\n",
    "corr"
   ]
  },
  {
   "cell_type": "markdown",
   "id": "4c0ea74a-a0e4-43c7-8b65-066c3ad5977d",
   "metadata": {},
   "source": [
    "## Model Evaluation"
   ]
  },
  {
   "cell_type": "markdown",
   "id": "12e046f8-9765-4368-a015-a9e1cf7655f7",
   "metadata": {},
   "source": [
    "## Logistic regression \n",
    "We wil use logistic model to identify if a customer will churn or will not churn. The effectiveness of this logistic regression model will be evaluated on metrics such as accuracy, precision, recall, and the area under the ROC curve (AUC-ROC). These metrics will help determine how well the model is performing in predicting customer churn. lets get it.\n",
    "\n",
    "We need to convert our categorical variables to numeric and we will creating of dummy variables, dummy variables will help in avoiding multicollinearity and will make our model easy to interpret. The categorical variables in question are Internet services, contract type and payment method. lets get to work!.  "
   ]
  },
  {
   "cell_type": "markdown",
   "id": "fd61cbf4-617e-4d04-96b5-1126b60c69b1",
   "metadata": {},
   "source": [
    "### Creating a copy of our dataset and creating dummy variables of our categorical variables"
   ]
  },
  {
   "cell_type": "code",
   "execution_count": 122,
   "id": "4ba6c7a9-df54-45c0-b1eb-44572658e76b",
   "metadata": {},
   "outputs": [
    {
     "data": {
      "text/html": [
       "<div>\n",
       "<style scoped>\n",
       "    .dataframe tbody tr th:only-of-type {\n",
       "        vertical-align: middle;\n",
       "    }\n",
       "\n",
       "    .dataframe tbody tr th {\n",
       "        vertical-align: top;\n",
       "    }\n",
       "\n",
       "    .dataframe thead th {\n",
       "        text-align: right;\n",
       "    }\n",
       "</style>\n",
       "<table border=\"1\" class=\"dataframe\">\n",
       "  <thead>\n",
       "    <tr style=\"text-align: right;\">\n",
       "      <th></th>\n",
       "      <th>Tenure in Months</th>\n",
       "      <th>Monthly Charge</th>\n",
       "      <th>Long Distance Charges</th>\n",
       "      <th>Churn Value</th>\n",
       "      <th>Customer Lifetime Value</th>\n",
       "      <th>Internet Service_Yes</th>\n",
       "      <th>Contract Type_One Year</th>\n",
       "      <th>Contract Type_Two Year</th>\n",
       "      <th>Payment Method_Credit Card</th>\n",
       "      <th>Payment Method_Mailed Check</th>\n",
       "    </tr>\n",
       "  </thead>\n",
       "  <tbody>\n",
       "    <tr>\n",
       "      <th>0</th>\n",
       "      <td>1</td>\n",
       "      <td>41.236</td>\n",
       "      <td>0.00</td>\n",
       "      <td>1</td>\n",
       "      <td>5433</td>\n",
       "      <td>1</td>\n",
       "      <td>0</td>\n",
       "      <td>0</td>\n",
       "      <td>0</td>\n",
       "      <td>0</td>\n",
       "    </tr>\n",
       "    <tr>\n",
       "      <th>1</th>\n",
       "      <td>8</td>\n",
       "      <td>83.876</td>\n",
       "      <td>390.80</td>\n",
       "      <td>1</td>\n",
       "      <td>5302</td>\n",
       "      <td>1</td>\n",
       "      <td>0</td>\n",
       "      <td>0</td>\n",
       "      <td>1</td>\n",
       "      <td>0</td>\n",
       "    </tr>\n",
       "    <tr>\n",
       "      <th>2</th>\n",
       "      <td>18</td>\n",
       "      <td>99.268</td>\n",
       "      <td>203.94</td>\n",
       "      <td>1</td>\n",
       "      <td>3179</td>\n",
       "      <td>1</td>\n",
       "      <td>0</td>\n",
       "      <td>0</td>\n",
       "      <td>0</td>\n",
       "      <td>0</td>\n",
       "    </tr>\n",
       "  </tbody>\n",
       "</table>\n",
       "</div>"
      ],
      "text/plain": [
       "   Tenure in Months  Monthly Charge  Long Distance Charges  Churn Value  \\\n",
       "0                 1          41.236                   0.00            1   \n",
       "1                 8          83.876                 390.80            1   \n",
       "2                18          99.268                 203.94            1   \n",
       "\n",
       "   Customer Lifetime Value  Internet Service_Yes  Contract Type_One Year  \\\n",
       "0                     5433                     1                       0   \n",
       "1                     5302                     1                       0   \n",
       "2                     3179                     1                       0   \n",
       "\n",
       "   Contract Type_Two Year  Payment Method_Credit Card  \\\n",
       "0                       0                           0   \n",
       "1                       0                           1   \n",
       "2                       0                           0   \n",
       "\n",
       "   Payment Method_Mailed Check  \n",
       "0                            0  \n",
       "1                            0  \n",
       "2                            0  "
      ]
     },
     "execution_count": 122,
     "metadata": {},
     "output_type": "execute_result"
    }
   ],
   "source": [
    "# lets create a copy of our df1 and name it logi\n",
    "logi = df2.copy()\n",
    "\n",
    "# lets create the dummy variables in our categorical variables\n",
    "logi = pd.get_dummies(logi, columns=['Internet Service', 'Contract Type', 'Payment Method'], drop_first=True, dtype=int)\n",
    "logi.head(3)"
   ]
  },
  {
   "cell_type": "code",
   "execution_count": 123,
   "id": "add8e584-34f5-473b-a3f7-cba6427061f4",
   "metadata": {},
   "outputs": [
    {
     "data": {
      "text/plain": [
       "(6847, 10)"
      ]
     },
     "execution_count": 123,
     "metadata": {},
     "output_type": "execute_result"
    }
   ],
   "source": [
    "logi.shape"
   ]
  },
  {
   "cell_type": "markdown",
   "id": "db9a46f7-c6b9-44fc-945e-0e750aa07168",
   "metadata": {},
   "source": [
    "### defining our target variable (y) and our features of our model (X)"
   ]
  },
  {
   "cell_type": "code",
   "execution_count": 124,
   "id": "2ecdfac9-e04e-4564-a473-dc1cdefc915e",
   "metadata": {},
   "outputs": [],
   "source": [
    "# define our X and y\n",
    "X = logi.drop('Churn Value', axis=1)\n",
    "y = logi['Churn Value']"
   ]
  },
  {
   "cell_type": "markdown",
   "id": "8ab10cec-48bc-4f8f-aeb0-78966d289c37",
   "metadata": {},
   "source": [
    "### split data using train test split, we will use 70/30 train to test respectively and our random state we set it to 42"
   ]
  },
  {
   "cell_type": "code",
   "execution_count": 125,
   "id": "0d16653b-9de2-4323-ad73-288572be822a",
   "metadata": {},
   "outputs": [],
   "source": [
    "# import the split module\n",
    "from sklearn.model_selection import train_test_split\n",
    "\n",
    "# lets split the data to train and test\n",
    "X_train,  X_test, y_train, y_test = train_test_split(X, y, test_size=0.3, random_state=42)"
   ]
  },
  {
   "cell_type": "markdown",
   "id": "ba4160c2-606f-4592-a5fc-28b09ef63f42",
   "metadata": {},
   "source": [
    "### Train the logistic regression model, we will add class_weight='balanced' parameter to fight with class imbalance incase the dataset is imbalanced"
   ]
  },
  {
   "cell_type": "code",
   "execution_count": 126,
   "id": "0f004a15-9532-4904-b270-f042f615f048",
   "metadata": {},
   "outputs": [
    {
     "data": {
      "text/html": [
       "<style>#sk-container-id-5 {color: black;background-color: white;}#sk-container-id-5 pre{padding: 0;}#sk-container-id-5 div.sk-toggleable {background-color: white;}#sk-container-id-5 label.sk-toggleable__label {cursor: pointer;display: block;width: 100%;margin-bottom: 0;padding: 0.3em;box-sizing: border-box;text-align: center;}#sk-container-id-5 label.sk-toggleable__label-arrow:before {content: \"▸\";float: left;margin-right: 0.25em;color: #696969;}#sk-container-id-5 label.sk-toggleable__label-arrow:hover:before {color: black;}#sk-container-id-5 div.sk-estimator:hover label.sk-toggleable__label-arrow:before {color: black;}#sk-container-id-5 div.sk-toggleable__content {max-height: 0;max-width: 0;overflow: hidden;text-align: left;background-color: #f0f8ff;}#sk-container-id-5 div.sk-toggleable__content pre {margin: 0.2em;color: black;border-radius: 0.25em;background-color: #f0f8ff;}#sk-container-id-5 input.sk-toggleable__control:checked~div.sk-toggleable__content {max-height: 200px;max-width: 100%;overflow: auto;}#sk-container-id-5 input.sk-toggleable__control:checked~label.sk-toggleable__label-arrow:before {content: \"▾\";}#sk-container-id-5 div.sk-estimator input.sk-toggleable__control:checked~label.sk-toggleable__label {background-color: #d4ebff;}#sk-container-id-5 div.sk-label input.sk-toggleable__control:checked~label.sk-toggleable__label {background-color: #d4ebff;}#sk-container-id-5 input.sk-hidden--visually {border: 0;clip: rect(1px 1px 1px 1px);clip: rect(1px, 1px, 1px, 1px);height: 1px;margin: -1px;overflow: hidden;padding: 0;position: absolute;width: 1px;}#sk-container-id-5 div.sk-estimator {font-family: monospace;background-color: #f0f8ff;border: 1px dotted black;border-radius: 0.25em;box-sizing: border-box;margin-bottom: 0.5em;}#sk-container-id-5 div.sk-estimator:hover {background-color: #d4ebff;}#sk-container-id-5 div.sk-parallel-item::after {content: \"\";width: 100%;border-bottom: 1px solid gray;flex-grow: 1;}#sk-container-id-5 div.sk-label:hover label.sk-toggleable__label {background-color: #d4ebff;}#sk-container-id-5 div.sk-serial::before {content: \"\";position: absolute;border-left: 1px solid gray;box-sizing: border-box;top: 0;bottom: 0;left: 50%;z-index: 0;}#sk-container-id-5 div.sk-serial {display: flex;flex-direction: column;align-items: center;background-color: white;padding-right: 0.2em;padding-left: 0.2em;position: relative;}#sk-container-id-5 div.sk-item {position: relative;z-index: 1;}#sk-container-id-5 div.sk-parallel {display: flex;align-items: stretch;justify-content: center;background-color: white;position: relative;}#sk-container-id-5 div.sk-item::before, #sk-container-id-5 div.sk-parallel-item::before {content: \"\";position: absolute;border-left: 1px solid gray;box-sizing: border-box;top: 0;bottom: 0;left: 50%;z-index: -1;}#sk-container-id-5 div.sk-parallel-item {display: flex;flex-direction: column;z-index: 1;position: relative;background-color: white;}#sk-container-id-5 div.sk-parallel-item:first-child::after {align-self: flex-end;width: 50%;}#sk-container-id-5 div.sk-parallel-item:last-child::after {align-self: flex-start;width: 50%;}#sk-container-id-5 div.sk-parallel-item:only-child::after {width: 0;}#sk-container-id-5 div.sk-dashed-wrapped {border: 1px dashed gray;margin: 0 0.4em 0.5em 0.4em;box-sizing: border-box;padding-bottom: 0.4em;background-color: white;}#sk-container-id-5 div.sk-label label {font-family: monospace;font-weight: bold;display: inline-block;line-height: 1.2em;}#sk-container-id-5 div.sk-label-container {text-align: center;}#sk-container-id-5 div.sk-container {/* jupyter's `normalize.less` sets `[hidden] { display: none; }` but bootstrap.min.css set `[hidden] { display: none !important; }` so we also need the `!important` here to be able to override the default hidden behavior on the sphinx rendered scikit-learn.org. See: https://github.com/scikit-learn/scikit-learn/issues/21755 */display: inline-block !important;position: relative;}#sk-container-id-5 div.sk-text-repr-fallback {display: none;}</style><div id=\"sk-container-id-5\" class=\"sk-top-container\"><div class=\"sk-text-repr-fallback\"><pre>LogisticRegression(C=0.1, class_weight=&#x27;balanced&#x27;, solver=&#x27;liblinear&#x27;)</pre><b>In a Jupyter environment, please rerun this cell to show the HTML representation or trust the notebook. <br />On GitHub, the HTML representation is unable to render, please try loading this page with nbviewer.org.</b></div><div class=\"sk-container\" hidden><div class=\"sk-item\"><div class=\"sk-estimator sk-toggleable\"><input class=\"sk-toggleable__control sk-hidden--visually\" id=\"sk-estimator-id-5\" type=\"checkbox\" checked><label for=\"sk-estimator-id-5\" class=\"sk-toggleable__label sk-toggleable__label-arrow\">LogisticRegression</label><div class=\"sk-toggleable__content\"><pre>LogisticRegression(C=0.1, class_weight=&#x27;balanced&#x27;, solver=&#x27;liblinear&#x27;)</pre></div></div></div></div></div>"
      ],
      "text/plain": [
       "LogisticRegression(C=0.1, class_weight='balanced', solver='liblinear')"
      ]
     },
     "execution_count": 126,
     "metadata": {},
     "output_type": "execute_result"
    }
   ],
   "source": [
    "# import the relevant libary\n",
    "from sklearn.linear_model import LogisticRegression\n",
    "\n",
    "# initiliaze our logistic model with ridge regualization\n",
    "logi_model = LogisticRegression(penalty='l2', C=0.1, class_weight='balanced', solver='liblinear')\n",
    "logi_model.fit(X_train, y_train)"
   ]
  },
  {
   "cell_type": "markdown",
   "id": "4e13339d-29e5-4b55-affa-4885ecaf031d",
   "metadata": {},
   "source": [
    "### Make predictions"
   ]
  },
  {
   "cell_type": "code",
   "execution_count": 127,
   "id": "3669d35a-ddb0-4d98-8e71-209aa302b075",
   "metadata": {},
   "outputs": [
    {
     "name": "stdout",
     "output_type": "stream",
     "text": [
      "The number of customers who never churned  are: 1171\n",
      "The number of customers who churned are: 884\n"
     ]
    }
   ],
   "source": [
    "# lets predict our values\n",
    "y_pred = logi_model.predict(X_test)\n",
    "pred_counts = pd.Series(y_pred).value_counts()\n",
    "print(f\"The number of customers who never churned  are: {pred_counts.get(0, 0)}\")\n",
    "print(f\"The number of customers who churned are: {pred_counts.get(1, 0)}\")"
   ]
  },
  {
   "cell_type": "markdown",
   "id": "9ae82544-873b-40e1-ad7a-9ff1052b9413",
   "metadata": {},
   "source": [
    "### Evaluating our model performance \n",
    "To understand how well our model is performing and to assess its potential future reliability. We will use some metrics to  check our model performance. we will compare our model performance using 3 performance metrics that is confusion matrix, F1 score and ROC and AUC"
   ]
  },
  {
   "cell_type": "code",
   "execution_count": 128,
   "id": "3a1d7281-eadc-4f5b-9c5c-2b2681ddd572",
   "metadata": {},
   "outputs": [
    {
     "name": "stdout",
     "output_type": "stream",
     "text": [
      "ROC AUC Score: 0.86\n"
     ]
    }
   ],
   "source": [
    "from sklearn.metrics import roc_curve, roc_auc_score\n",
    "\n",
    "# predict the probabilities\n",
    "y_prob = logi_model.predict_proba(X_test)[:, 1]\n",
    "\n",
    "# Calculate ROC AUC score\n",
    "roc_auc = roc_auc_score(y_test, y_prob)\n",
    "\n",
    "# Calculate ROC curve\n",
    "fpr, tpr, thresholds = roc_curve(y_test, y_prob)\n",
    "\n",
    "# Print ROC AUC score\n",
    "print(f\"ROC AUC Score: {roc_auc:.2f}\")"
   ]
  },
  {
   "cell_type": "code",
   "execution_count": 155,
   "id": "4265ebd3-c920-4941-ab80-37c331bd23ec",
   "metadata": {},
   "outputs": [
    {
     "data": {
      "image/png": "[encoded data removed]",
      "text/plain": [
       "<Figure size 800x600 with 1 Axes>"
      ]
     },
     "metadata": {},
     "output_type": "display_data"
    }
   ],
   "source": [
    "# Plot ROC curve\n",
    "plt.figure(figsize=(8, 6))\n",
    "plt.plot(fpr, tpr, color='blue', label=f'ROC curve (area = {roc_auc:.2f})')\n",
    "plt.plot([0, 1], [0, 1], color='grey', linestyle='--')\n",
    "plt.xlim([0.0, 1.0])\n",
    "plt.ylim([0.0, 1.05])\n",
    "plt.xlabel('False Positive Rate')\n",
    "plt.ylabel('True Positive Rate')\n",
    "plt.title('Receiver Operating Characteristic (ROC) Curve')\n",
    "plt.legend(loc='lower right')\n",
    "\n",
    "plt.show()"
   ]
  },
  {
   "cell_type": "code",
   "execution_count": 130,
   "id": "4286450a-61e0-4952-a7e7-f35a1590f485",
   "metadata": {},
   "outputs": [
    {
     "data": {
      "text/plain": [
       "75.91"
      ]
     },
     "execution_count": 130,
     "metadata": {},
     "output_type": "execute_result"
    }
   ],
   "source": [
    "from sklearn.metrics import accuracy_score\n",
    "score = round(accuracy_score(y_test, y_pred) * 100, 2)\n",
    "score"
   ]
  },
  {
   "cell_type": "code",
   "execution_count": 131,
   "id": "10f32a5b-1712-479f-8251-f1349b4e872b",
   "metadata": {},
   "outputs": [],
   "source": [
    "# confusion matrix metric\n",
    "from sklearn.metrics import confusion_matrix\n",
    "\n",
    "# define the matrix\n",
    "cm = confusion_matrix(y_test, y_pred)"
   ]
  },
  {
   "cell_type": "code",
   "execution_count": 132,
   "id": "b328b92b-fb77-413a-ab12-5ac2fd4e0ec8",
   "metadata": {},
   "outputs": [],
   "source": [
    "# Extracting values\n",
    "TP = cm[1, 1]  # True Positives\n",
    "TN = cm[0, 0]  # True Negatives\n",
    "FP = cm[0, 1]  # False Positives\n",
    "FN = cm[1, 0]  # False Negatives\n"
   ]
  },
  {
   "cell_type": "code",
   "execution_count": 133,
   "id": "e92d72a1-ca80-47f0-85de-1faf99210be5",
   "metadata": {},
   "outputs": [
    {
     "name": "stdout",
     "output_type": "stream",
     "text": [
      "The accuracy of our model is: 75.91 %\n",
      "The precision of our model is: 55.2 %\n",
      "The recall of our model is: 83.13 %\n",
      "The f1_score of our model is: 66.35 %\n"
     ]
    }
   ],
   "source": [
    "accuracy = round((TP + TN) / (TP + TN + FP + FN) * 100, 2)\n",
    "precision = round(TP / (TP + FP) * 100,2)\n",
    "recall = round(TP / (TP + FN) * 100,2)\n",
    "f1_score = round(2 * (precision * recall) / (precision + recall),2)\n",
    "print(\"The accuracy of our model is:\", accuracy,\"%\")\n",
    "print(\"The precision of our model is:\", precision,\"%\")\n",
    "print(\"The recall of our model is:\", recall,\"%\")\n",
    "print(\"The f1_score of our model is:\", f1_score,\"%\")\n"
   ]
  },
  {
   "cell_type": "code",
   "execution_count": 156,
   "id": "79b3cf3e-3d6b-4916-bd81-229e816adb0b",
   "metadata": {},
   "outputs": [
    {
     "data": {
      "text/plain": [
       "<Figure size 1200x800 with 0 Axes>"
      ]
     },
     "metadata": {},
     "output_type": "display_data"
    },
    {
     "data": {
      "image/png": "[encoded data removed]",
      "text/plain": [
       "<Figure size 640x480 with 2 Axes>"
      ]
     },
     "metadata": {},
     "output_type": "display_data"
    }
   ],
   "source": [
    "from sklearn.metrics import ConfusionMatrixDisplay\n",
    "\n",
    "# Create confusion matrix display\n",
    "disp = ConfusionMatrixDisplay(confusion_matrix=cm, display_labels=['Negative', 'Positive'])\n",
    "\n",
    "# Plot the confusion matrix\n",
    "plt.figure(figsize=(12,8))\n",
    "disp.plot(cmap='Blues', values_format='d')\n",
    "plt.title(\"Model Confusion Matrix\")\n",
    "\n",
    "plt.show()\n"
   ]
  },
  {
   "cell_type": "markdown",
   "id": "b5e3ccfb-39b5-4b6f-8be7-23707522244e",
   "metadata": {},
   "source": [
    "### Interpreting our Logistic model\n",
    "1. **Accuracy of 75.91%** - The model predicted churn status of  about 76% of the customers. This means that in every 100 customers in our test, the model predicted 76 customers correctly. That means it correctly identified churn states for majority of the customers\n",
    "2. **Precision of 55.2%** - Of all customers predicted to churn, only 55% actually do. This means nearly half of the customers identified as at risk might not actually churn\n",
    "3. **Recall of 83.13%** - A recall of 84% shows that the model is good at identifing most of the customers who are at risk of leaving the organization\n",
    "4. **F1 score of 66.35%** - indicates that the model is reasonably effective at identifying at-risk customers with a moderate trade-off between false positives and false negatives.\n",
    "5. **ROC and AUC of 86.46%** - suggests that the model is very good at distinguishing between the classes that is churned and not churned "
   ]
  },
  {
   "cell_type": "markdown",
   "id": "928a9cc6-91ef-48c4-8f91-4e0fe1b4de23",
   "metadata": {},
   "source": [
    "## Decision Tree Model"
   ]
  },
  {
   "cell_type": "code",
   "execution_count": 135,
   "id": "be415dd3-2c5e-447e-95a3-380327f7cc0f",
   "metadata": {},
   "outputs": [],
   "source": [
    "# lets copy our dataset and name it deci_tree\n",
    "deci_tre1 = df2.copy()"
   ]
  },
  {
   "cell_type": "markdown",
   "id": "050aa0c9-9838-4323-b4b6-55edb93d849d",
   "metadata": {},
   "source": [
    "### using one hot enconder to change our categorical variable to numerical\n",
    "The categorical variables in question are Internet services, contract type and payment method. lets get to work!.  "
   ]
  },
  {
   "cell_type": "code",
   "execution_count": 136,
   "id": "db768e21-07db-45bf-a173-b1e575639650",
   "metadata": {},
   "outputs": [],
   "source": [
    "# importing necessary enconding library\n",
    "from sklearn.preprocessing import OneHotEncoder\n",
    "\n",
    "# columns to be encoded\n",
    "encode_col = ['Internet Service', 'Contract Type', 'Payment Method']\n",
    "\n",
    "# seperates numerical data from categorical data\n",
    "X_numerical = deci_tre1.drop(encode_col + ['Churn Value'], axis=1)\n",
    "\n",
    "# intiliaze OHE\n",
    "ohe = OneHotEncoder(drop=\"first\", sparse_output=False)"
   ]
  },
  {
   "cell_type": "code",
   "execution_count": 137,
   "id": "86c528b8-622f-4712-a9bd-2a4bd83eca7b",
   "metadata": {},
   "outputs": [],
   "source": [
    "# fit and transform the categorical variable\n",
    "encode = ohe.fit_transform(deci_tre1[encode_col])\n",
    "\n",
    "#combine encoded features with numerical features\n",
    "X_encoded = pd.DataFrame(encode, columns=ohe.get_feature_names_out(encode_col))\n",
    "dec_tre = pd.concat([X_encoded.reset_index(drop=True), X_numerical.reset_index(drop=True)], axis=1)"
   ]
  },
  {
   "cell_type": "code",
   "execution_count": 138,
   "id": "bcee04bf-bc4b-4301-b188-225bc2a6392f",
   "metadata": {},
   "outputs": [
    {
     "data": {
      "text/html": [
       "<div>\n",
       "<style scoped>\n",
       "    .dataframe tbody tr th:only-of-type {\n",
       "        vertical-align: middle;\n",
       "    }\n",
       "\n",
       "    .dataframe tbody tr th {\n",
       "        vertical-align: top;\n",
       "    }\n",
       "\n",
       "    .dataframe thead th {\n",
       "        text-align: right;\n",
       "    }\n",
       "</style>\n",
       "<table border=\"1\" class=\"dataframe\">\n",
       "  <thead>\n",
       "    <tr style=\"text-align: right;\">\n",
       "      <th></th>\n",
       "      <th>Internet Service_Yes</th>\n",
       "      <th>Contract Type_One Year</th>\n",
       "      <th>Contract Type_Two Year</th>\n",
       "      <th>Payment Method_Credit Card</th>\n",
       "      <th>Payment Method_Mailed Check</th>\n",
       "      <th>Tenure in Months</th>\n",
       "      <th>Monthly Charge</th>\n",
       "      <th>Long Distance Charges</th>\n",
       "      <th>Customer Lifetime Value</th>\n",
       "    </tr>\n",
       "  </thead>\n",
       "  <tbody>\n",
       "    <tr>\n",
       "      <th>0</th>\n",
       "      <td>1.0</td>\n",
       "      <td>0.0</td>\n",
       "      <td>0.0</td>\n",
       "      <td>0.0</td>\n",
       "      <td>0.0</td>\n",
       "      <td>1</td>\n",
       "      <td>41.236</td>\n",
       "      <td>0.00</td>\n",
       "      <td>5433</td>\n",
       "    </tr>\n",
       "    <tr>\n",
       "      <th>1</th>\n",
       "      <td>1.0</td>\n",
       "      <td>0.0</td>\n",
       "      <td>0.0</td>\n",
       "      <td>1.0</td>\n",
       "      <td>0.0</td>\n",
       "      <td>8</td>\n",
       "      <td>83.876</td>\n",
       "      <td>390.80</td>\n",
       "      <td>5302</td>\n",
       "    </tr>\n",
       "    <tr>\n",
       "      <th>2</th>\n",
       "      <td>1.0</td>\n",
       "      <td>0.0</td>\n",
       "      <td>0.0</td>\n",
       "      <td>0.0</td>\n",
       "      <td>0.0</td>\n",
       "      <td>18</td>\n",
       "      <td>99.268</td>\n",
       "      <td>203.94</td>\n",
       "      <td>3179</td>\n",
       "    </tr>\n",
       "    <tr>\n",
       "      <th>3</th>\n",
       "      <td>1.0</td>\n",
       "      <td>0.0</td>\n",
       "      <td>0.0</td>\n",
       "      <td>0.0</td>\n",
       "      <td>0.0</td>\n",
       "      <td>25</td>\n",
       "      <td>102.440</td>\n",
       "      <td>494.00</td>\n",
       "      <td>5337</td>\n",
       "    </tr>\n",
       "    <tr>\n",
       "      <th>4</th>\n",
       "      <td>1.0</td>\n",
       "      <td>0.0</td>\n",
       "      <td>0.0</td>\n",
       "      <td>0.0</td>\n",
       "      <td>0.0</td>\n",
       "      <td>37</td>\n",
       "      <td>79.560</td>\n",
       "      <td>234.21</td>\n",
       "      <td>2793</td>\n",
       "    </tr>\n",
       "  </tbody>\n",
       "</table>\n",
       "</div>"
      ],
      "text/plain": [
       "   Internet Service_Yes  Contract Type_One Year  Contract Type_Two Year  \\\n",
       "0                   1.0                     0.0                     0.0   \n",
       "1                   1.0                     0.0                     0.0   \n",
       "2                   1.0                     0.0                     0.0   \n",
       "3                   1.0                     0.0                     0.0   \n",
       "4                   1.0                     0.0                     0.0   \n",
       "\n",
       "   Payment Method_Credit Card  Payment Method_Mailed Check  Tenure in Months  \\\n",
       "0                         0.0                          0.0                 1   \n",
       "1                         1.0                          0.0                 8   \n",
       "2                         0.0                          0.0                18   \n",
       "3                         0.0                          0.0                25   \n",
       "4                         0.0                          0.0                37   \n",
       "\n",
       "   Monthly Charge  Long Distance Charges  Customer Lifetime Value  \n",
       "0          41.236                   0.00                     5433  \n",
       "1          83.876                 390.80                     5302  \n",
       "2          99.268                 203.94                     3179  \n",
       "3         102.440                 494.00                     5337  \n",
       "4          79.560                 234.21                     2793  "
      ]
     },
     "execution_count": 138,
     "metadata": {},
     "output_type": "execute_result"
    }
   ],
   "source": [
    "# confirming if we categorical variable have been encoded\n",
    "dec_tre.head()"
   ]
  },
  {
   "cell_type": "markdown",
   "id": "a9ee7fdf-96cf-48a8-a882-adf441b9504f",
   "metadata": {},
   "source": [
    "### Define our target variable (y) and our feature labels(X)"
   ]
  },
  {
   "cell_type": "code",
   "execution_count": 139,
   "id": "e163469b-04fb-4eb6-8cd4-1874ab857f9f",
   "metadata": {},
   "outputs": [],
   "source": [
    "# define X and y\n",
    "y = deci_tre1['Churn Value']"
   ]
  },
  {
   "cell_type": "markdown",
   "id": "525218ec-351a-495a-bd99-e3043fa4d919",
   "metadata": {},
   "source": [
    "### split data using train test split, we will use 70/30 train to test respectively and our random state we set it to 42"
   ]
  },
  {
   "cell_type": "code",
   "execution_count": 140,
   "id": "1da7cc7a-8995-4b19-b5ed-f6d7b247643b",
   "metadata": {},
   "outputs": [],
   "source": [
    "# lets split the data to train and test\n",
    "X_train,  X_test, y_train, y_test = train_test_split(X, y, test_size=0.3, random_state=42)"
   ]
  },
  {
   "cell_type": "markdown",
   "id": "d08ab916-51eb-404d-8746-638b00b3e357",
   "metadata": {},
   "source": [
    "### Train the Decision model, we will add class_weight='balanced', max_depth, min_samples_split, min_samples_leaf parameter to fight with class imbalance and overfiting and under fitting using the hyperparameters."
   ]
  },
  {
   "cell_type": "code",
   "execution_count": 141,
   "id": "285b5dec-5ecc-41de-9ab3-11f578df8c34",
   "metadata": {},
   "outputs": [
    {
     "data": {
      "text/html": [
       "<style>#sk-container-id-6 {color: black;background-color: white;}#sk-container-id-6 pre{padding: 0;}#sk-container-id-6 div.sk-toggleable {background-color: white;}#sk-container-id-6 label.sk-toggleable__label {cursor: pointer;display: block;width: 100%;margin-bottom: 0;padding: 0.3em;box-sizing: border-box;text-align: center;}#sk-container-id-6 label.sk-toggleable__label-arrow:before {content: \"▸\";float: left;margin-right: 0.25em;color: #696969;}#sk-container-id-6 label.sk-toggleable__label-arrow:hover:before {color: black;}#sk-container-id-6 div.sk-estimator:hover label.sk-toggleable__label-arrow:before {color: black;}#sk-container-id-6 div.sk-toggleable__content {max-height: 0;max-width: 0;overflow: hidden;text-align: left;background-color: #f0f8ff;}#sk-container-id-6 div.sk-toggleable__content pre {margin: 0.2em;color: black;border-radius: 0.25em;background-color: #f0f8ff;}#sk-container-id-6 input.sk-toggleable__control:checked~div.sk-toggleable__content {max-height: 200px;max-width: 100%;overflow: auto;}#sk-container-id-6 input.sk-toggleable__control:checked~label.sk-toggleable__label-arrow:before {content: \"▾\";}#sk-container-id-6 div.sk-estimator input.sk-toggleable__control:checked~label.sk-toggleable__label {background-color: #d4ebff;}#sk-container-id-6 div.sk-label input.sk-toggleable__control:checked~label.sk-toggleable__label {background-color: #d4ebff;}#sk-container-id-6 input.sk-hidden--visually {border: 0;clip: rect(1px 1px 1px 1px);clip: rect(1px, 1px, 1px, 1px);height: 1px;margin: -1px;overflow: hidden;padding: 0;position: absolute;width: 1px;}#sk-container-id-6 div.sk-estimator {font-family: monospace;background-color: #f0f8ff;border: 1px dotted black;border-radius: 0.25em;box-sizing: border-box;margin-bottom: 0.5em;}#sk-container-id-6 div.sk-estimator:hover {background-color: #d4ebff;}#sk-container-id-6 div.sk-parallel-item::after {content: \"\";width: 100%;border-bottom: 1px solid gray;flex-grow: 1;}#sk-container-id-6 div.sk-label:hover label.sk-toggleable__label {background-color: #d4ebff;}#sk-container-id-6 div.sk-serial::before {content: \"\";position: absolute;border-left: 1px solid gray;box-sizing: border-box;top: 0;bottom: 0;left: 50%;z-index: 0;}#sk-container-id-6 div.sk-serial {display: flex;flex-direction: column;align-items: center;background-color: white;padding-right: 0.2em;padding-left: 0.2em;position: relative;}#sk-container-id-6 div.sk-item {position: relative;z-index: 1;}#sk-container-id-6 div.sk-parallel {display: flex;align-items: stretch;justify-content: center;background-color: white;position: relative;}#sk-container-id-6 div.sk-item::before, #sk-container-id-6 div.sk-parallel-item::before {content: \"\";position: absolute;border-left: 1px solid gray;box-sizing: border-box;top: 0;bottom: 0;left: 50%;z-index: -1;}#sk-container-id-6 div.sk-parallel-item {display: flex;flex-direction: column;z-index: 1;position: relative;background-color: white;}#sk-container-id-6 div.sk-parallel-item:first-child::after {align-self: flex-end;width: 50%;}#sk-container-id-6 div.sk-parallel-item:last-child::after {align-self: flex-start;width: 50%;}#sk-container-id-6 div.sk-parallel-item:only-child::after {width: 0;}#sk-container-id-6 div.sk-dashed-wrapped {border: 1px dashed gray;margin: 0 0.4em 0.5em 0.4em;box-sizing: border-box;padding-bottom: 0.4em;background-color: white;}#sk-container-id-6 div.sk-label label {font-family: monospace;font-weight: bold;display: inline-block;line-height: 1.2em;}#sk-container-id-6 div.sk-label-container {text-align: center;}#sk-container-id-6 div.sk-container {/* jupyter's `normalize.less` sets `[hidden] { display: none; }` but bootstrap.min.css set `[hidden] { display: none !important; }` so we also need the `!important` here to be able to override the default hidden behavior on the sphinx rendered scikit-learn.org. See: https://github.com/scikit-learn/scikit-learn/issues/21755 */display: inline-block !important;position: relative;}#sk-container-id-6 div.sk-text-repr-fallback {display: none;}</style><div id=\"sk-container-id-6\" class=\"sk-top-container\"><div class=\"sk-text-repr-fallback\"><pre>DecisionTreeClassifier(class_weight=&#x27;balanced&#x27;, max_depth=7, min_samples_leaf=6,\n",
       "                       min_samples_split=10, random_state=42)</pre><b>In a Jupyter environment, please rerun this cell to show the HTML representation or trust the notebook. <br />On GitHub, the HTML representation is unable to render, please try loading this page with nbviewer.org.</b></div><div class=\"sk-container\" hidden><div class=\"sk-item\"><div class=\"sk-estimator sk-toggleable\"><input class=\"sk-toggleable__control sk-hidden--visually\" id=\"sk-estimator-id-6\" type=\"checkbox\" checked><label for=\"sk-estimator-id-6\" class=\"sk-toggleable__label sk-toggleable__label-arrow\">DecisionTreeClassifier</label><div class=\"sk-toggleable__content\"><pre>DecisionTreeClassifier(class_weight=&#x27;balanced&#x27;, max_depth=7, min_samples_leaf=6,\n",
       "                       min_samples_split=10, random_state=42)</pre></div></div></div></div></div>"
      ],
      "text/plain": [
       "DecisionTreeClassifier(class_weight='balanced', max_depth=7, min_samples_leaf=6,\n",
       "                       min_samples_split=10, random_state=42)"
      ]
     },
     "execution_count": 141,
     "metadata": {},
     "output_type": "execute_result"
    }
   ],
   "source": [
    "# we intialize our model and importing libraries\n",
    "from sklearn.model_selection import cross_val_score\n",
    "from sklearn.tree import DecisionTreeClassifier\n",
    "dec_tre_model = DecisionTreeClassifier(max_depth=7, \n",
    "                                   min_samples_split=10, \n",
    "                                   min_samples_leaf=6, \n",
    "                                   class_weight='balanced', \n",
    "                                   random_state=42)\n",
    "# implementing cross validation\n",
    "cv_scores = cross_val_score(dec_tre_model, X, y, cv=5, scoring='accuracy')\n",
    "\n",
    "# fiting our model\n",
    "dec_tre_model.fit(X_train, y_train)"
   ]
  },
  {
   "cell_type": "code",
   "execution_count": 142,
   "id": "27c98944-6b13-420c-a3f5-a4b88388dfeb",
   "metadata": {},
   "outputs": [
    {
     "data": {
      "text/plain": [
       "75.91"
      ]
     },
     "execution_count": 142,
     "metadata": {},
     "output_type": "execute_result"
    }
   ],
   "source": [
    "# Checking the accuracy of the model\n",
    "score = round(accuracy_score(y_test, y_pred) * 100, 2)\n",
    "score"
   ]
  },
  {
   "cell_type": "code",
   "execution_count": 143,
   "id": "590ac7a4-a46f-4086-af96-24d69421ab2a",
   "metadata": {},
   "outputs": [
    {
     "data": {
      "text/plain": [
       "array([1, 0, 0, ..., 0, 0, 0], dtype=int64)"
      ]
     },
     "execution_count": 143,
     "metadata": {},
     "output_type": "execute_result"
    }
   ],
   "source": [
    "# Predicting our model\n",
    "y_pred = dec_tre_model.predict(X_test)\n",
    "y_pred"
   ]
  },
  {
   "cell_type": "code",
   "execution_count": 144,
   "id": "0801d8fc-10e6-4a5a-98a1-b9e5edc9b09a",
   "metadata": {},
   "outputs": [
    {
     "name": "stdout",
     "output_type": "stream",
     "text": [
      "The number of customers who never churned are: 1257\n",
      "The number of customers who churned are: 798\n"
     ]
    }
   ],
   "source": [
    "pred_counts = pd.Series(y_pred).value_counts()\n",
    "print(f\"The number of customers who never churned are: {pred_counts.get(0, 0)}\")\n",
    "print(f\"The number of customers who churned are: {pred_counts.get(1, 0)}\")"
   ]
  },
  {
   "cell_type": "markdown",
   "id": "ab36d7a4-a7db-4b21-a39a-0a6c013e9538",
   "metadata": {},
   "source": [
    "### Evaluating our model performance\n",
    "To understand how well our model is performing and to assess its potential future reliability. We will use some metrics to  check our model performance. we will compare our model performance using 3 performance metrics that is confusion matrix, F1 score and ROC and AUC"
   ]
  },
  {
   "cell_type": "code",
   "execution_count": 145,
   "id": "48e7f6e0-f57a-4773-b8f2-57f9f27b6c23",
   "metadata": {},
   "outputs": [
    {
     "name": "stdout",
     "output_type": "stream",
     "text": [
      "AUC: 0.8646149079279021\n"
     ]
    }
   ],
   "source": [
    "from sklearn.metrics import roc_curve, auc\n",
    "# First calculate the probability scores\n",
    "y_score = dec_tre_model.predict_proba(X_test)[:, 1]\n",
    "\n",
    "fpr, tpr, thresholds = roc_curve(y_test, y_score)\n",
    "\n",
    "print('AUC: {}'.format(auc(fpr, tpr)))"
   ]
  },
  {
   "cell_type": "code",
   "execution_count": 157,
   "id": "c5efc644-961c-43dc-acfb-808905500925",
   "metadata": {},
   "outputs": [
    {
     "data": {
      "image/png": "[encoded data removed]",
      "text/plain": [
       "<Figure size 640x480 with 1 Axes>"
      ]
     },
     "metadata": {},
     "output_type": "display_data"
    }
   ],
   "source": [
    "plt.figure()\n",
    "plt.plot(fpr, tpr, color='darkorange', lw=2, label='ROC curve (area = %0.2f)')\n",
    "plt.plot([0, 1], [0, 1], color='navy', lw=2, linestyle='--')\n",
    "plt.xlim([0.0, 1.0])\n",
    "plt.ylim([0.0, 1.05])\n",
    "plt.xlabel('False Positive Rate')\n",
    "plt.ylabel('True Positive Rate')\n",
    "plt.title('Receiver Operating Characteristic (ROC)')\n",
    "plt.legend(loc='lower right')\n",
    "\n",
    "plt.show()"
   ]
  },
  {
   "cell_type": "code",
   "execution_count": 147,
   "id": "7137b422-8724-4625-b5fb-29c6fd6e5eca",
   "metadata": {},
   "outputs": [
    {
     "name": "stdout",
     "output_type": "stream",
     "text": [
      "AUC: 0.8646149079279021\n"
     ]
    }
   ],
   "source": [
    "print('AUC: {}'.format(auc(fpr, tpr)))"
   ]
  },
  {
   "cell_type": "code",
   "execution_count": 148,
   "id": "fa3d64d3-8b18-4deb-89ee-4d9d4314cb2e",
   "metadata": {},
   "outputs": [
    {
     "data": {
      "text/plain": [
       "78.83"
      ]
     },
     "execution_count": 148,
     "metadata": {},
     "output_type": "execute_result"
    }
   ],
   "source": [
    "score = round(accuracy_score(y_test, y_pred) * 100, 2)\n",
    "score"
   ]
  },
  {
   "cell_type": "code",
   "execution_count": 149,
   "id": "6de43a5d-243d-4b71-b976-a1af5a7acb80",
   "metadata": {},
   "outputs": [
    {
     "data": {
      "text/plain": [
       "array([[1145,  323],\n",
       "       [ 112,  475]], dtype=int64)"
      ]
     },
     "execution_count": 149,
     "metadata": {},
     "output_type": "execute_result"
    }
   ],
   "source": [
    "cm = confusion_matrix(y_test, y_pred)\n",
    "cm"
   ]
  },
  {
   "cell_type": "code",
   "execution_count": 150,
   "id": "26fca4b4-a0f7-4ff0-91ca-614ac631b50b",
   "metadata": {},
   "outputs": [],
   "source": [
    "# Extracting values\n",
    "TP = cm[1, 1]  # True Positives\n",
    "TN = cm[0, 0]  # True Negatives\n",
    "FP = cm[0, 1]  # False Positives\n",
    "FN = cm[1, 0]  # False Negatives\n"
   ]
  },
  {
   "cell_type": "code",
   "execution_count": 151,
   "id": "a1fa2b25-537a-48bc-8376-a7949ecbf98a",
   "metadata": {},
   "outputs": [
    {
     "name": "stdout",
     "output_type": "stream",
     "text": [
      "The accuracy of our model is: 78.83 %\n",
      "The precision of our model is: 59.52 %\n",
      "The recall of our model is: 80.92 %\n",
      "The f1_score of our model is: 68.59 %\n"
     ]
    }
   ],
   "source": [
    "accuracy = round((TP + TN) / (TP + TN + FP + FN) * 100, 2)\n",
    "precision = round(TP / (TP + FP) * 100,2)\n",
    "recall = round(TP / (TP + FN) * 100,2)\n",
    "f1_score = round(2 * (precision * recall) / (precision + recall),2)\n",
    "print(\"The accuracy of our model is:\", accuracy,\"%\")\n",
    "print(\"The precision of our model is:\", precision,\"%\")\n",
    "print(\"The recall of our model is:\", recall,\"%\")\n",
    "print(\"The f1_score of our model is:\", f1_score,\"%\")"
   ]
  },
  {
   "cell_type": "code",
   "execution_count": 158,
   "id": "508a39a6-eb4a-4b0f-96e3-a980849fb601",
   "metadata": {},
   "outputs": [
    {
     "data": {
      "text/plain": [
       "<Figure size 1200x800 with 0 Axes>"
      ]
     },
     "metadata": {},
     "output_type": "display_data"
    },
    {
     "data": {
      "image/png": "[encoded data removed]",
      "text/plain": [
       "<Figure size 640x480 with 2 Axes>"
      ]
     },
     "metadata": {},
     "output_type": "display_data"
    }
   ],
   "source": [
    "# Create confusion matrix display\n",
    "disp = ConfusionMatrixDisplay(confusion_matrix=cm, display_labels=['Negative', 'Positive'])\n",
    "\n",
    "# Plot the confusion matrix\n",
    "plt.figure(figsize=(12,8))\n",
    "disp.plot(cmap='Blues', values_format='d')\n",
    "plt.title(\"Model Confusion Matrix\")\n",
    "plt.savefig('sample_plot.png', dpi=300, bbox_inches='tight')\n",
    "plt.show()"
   ]
  },
  {
   "cell_type": "markdown",
   "id": "9b9560c2-055c-4e68-af3f-b546fc60df15",
   "metadata": {},
   "source": [
    "### Interpreting our Decision Tree model\n",
    "1. **Accuracy of 78.83%** - The model predicted churn status of  about 79% of the customers. This means that in every 100 customers in our test, the model predicted 79 customers correctly. That means it correctly identified churn states for majority of the customers\n",
    "2. **Precision of 59.52%** - Of all customers predicted to churn, only 59% actually do. This means nearly half of the customers identified as at risk might not actually churn\n",
    "3. **Recall of 80.92%** - A recall of 81% shows that the model is good at identifing most of the customers who are at risk of leaving the organization\n",
    "4. **F1 score of 68.59%** - indicates that the model is reasonably effective at identifying at-risk customers with a moderate trade-off between false positives and false negatives.\n",
    "5. **ROC and AUC of 86.46%** - suggests that the model is very good at distinguishing between the classes that is churned and not churned "
   ]
  },
  {
   "cell_type": "code",
   "execution_count": 153,
   "id": "c1813aa4-1f6d-4475-9fa2-74496a577b06",
   "metadata": {},
   "outputs": [
    {
     "name": "stdout",
     "output_type": "stream",
     "text": [
      "xxxxxxxxxx__________xxxxxxxxxx__________xxxxxxxx__________xxxxxxxxxx__________xxxxxxxxx__________xxxxxxxxx__________xxxxxxx__________xxxxxxxxxx\n"
     ]
    }
   ],
   "source": [
    "print(\"xxxxxxxxxx__________xxxxxxxxxx__________xxxxxxxx__________xxxxxxxxxx__________xxxxxxxxx__________xxxxxxxxx__________xxxxxxx__________xxxxxxxxxx\")"
   ]
  },
  {
   "cell_type": "markdown",
   "id": "c0d6bc3a-e6a6-43d4-8a6f-9de9bc32e509",
   "metadata": {},
   "source": [
    "### Iterative Approach to Modeling\n",
    "**Logistic Regression Model** was the baseline model. It performance was: **Accuracy of 75.91%, Precision of 55.2%,Recall of 83.13% and F1 score of 66.35%**. The logistic regression model provided a solid baseline with a recall of 83.13%, indicating that the model is highly effective at identifying customers who are at risk of churning.\n",
    "\n",
    "**Decision Tree Model** was the baseline model. It performance was: **Accuracy of 78.83%, Precision of 59.52%,Recall of 80.92% and F1 score of 68.59%**. The decision tree model improves the accuracy of the logistic regression model from 75.57% to 78.83% and slightly enhances the F1 Score from 66.31% to 68.59%. in decision tree we used hyperparameter to Adjust the max_depth, min_samples_split and min_samples_leaf parameters to control overfitting and improve generalization.\n",
    "\n",
    "Both models in terms of accuracy metrics are good but my final model choice would be the decision tree model reason been our goal was to develop a model that not only identifies the majority of customers at risk of churn thats high recall but also does so with greater precision which decision tree has a high precision compared to  logistics regression, ensuring that the marketing team can focus their efforts on the right customers."
   ]
  },
  {
   "cell_type": "markdown",
   "id": "b50cb0d1-51c2-4dc1-b3f3-46f7c121ea1f",
   "metadata": {},
   "source": [
    "### Model Recommedation\n",
    "\n",
    "Based on the model metrics, the organization should focus on targeting high-risk customers identified by the model. With a high recall rate of 80.92% for the Decision Tree and 83.13% for Logistic Regression, the model effectively shows customers likely to churn. Prioritizing these customers for personalized offers or enhanced customer service can help reduce churn and improve retention.\n",
    "\n",
    "However, the moderate precision of 59.52% for the Decision Tree and 55.2% for Logistic Regression indicates that some customers predicted to churn may not actually do so. To deal with this, the organization should implement cost-effective, customer retention strategies such as loyalty programs. Additionally, the model should continue to be enhance on its precision and overall performance, ensuring more accurate targeting and efficient use of resources in the future."
   ]
  },
  {
   "cell_type": "code",
   "execution_count": null,
   "id": "2fa29a17-06b6-4bf1-9cf9-5de24986978e",
   "metadata": {},
   "outputs": [],
   "source": []
  }
 ],
 "metadata": {
  "kernelspec": {
   "display_name": "Python 3 (ipykernel)",
   "language": "python",
   "name": "python3"
  },
  "language_info": {
   "codemirror_mode": {
    "name": "ipython",
    "version": 3
   },
   "file_extension": ".py",
   "mimetype": "text/x-python",
   "name": "python",
   "nbconvert_exporter": "python",
   "pygments_lexer": "ipython3",
   "version": "3.11.7"
  }
 },
 "nbformat": 4,
 "nbformat_minor": 5
}
